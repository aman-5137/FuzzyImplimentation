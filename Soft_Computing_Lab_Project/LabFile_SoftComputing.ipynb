{
 "cells": [
  {
   "cell_type": "raw",
   "id": "28f789f6-a412-4cd6-9149-508f43a05686",
   "metadata": {},
   "source": [
    "Name : Aman Kumar Yadav\n",
    "Adm no.: 22SCSE1180007\n",
    "Lab File: Soft Computing and Applications"
   ]
  },
  {
   "cell_type": "markdown",
   "id": "9175bcf6-23c5-40a0-ac90-70de3a60ec96",
   "metadata": {},
   "source": [
    "### To implement AND function using Perceptron."
   ]
  },
  {
   "cell_type": "code",
   "execution_count": 1,
   "id": "e550a1b6-def3-4d0d-b91a-7c4bc6baa542",
   "metadata": {},
   "outputs": [
    {
     "name": "stdout",
     "output_type": "stream",
     "text": [
      "Predictions:\n",
      "0\n",
      "0\n",
      "0\n",
      "1\n"
     ]
    }
   ],
   "source": [
    "import numpy as np\n",
    "\n",
    "class Perceptron:\n",
    "    def __init__(self, learning_rate=0.1, epochs=100):\n",
    "        self.weights = None\n",
    "        self.bias = None\n",
    "        self.learning_rate = learning_rate\n",
    "        self.epochs = epochs\n",
    "\n",
    "    def fit(self, X, y):\n",
    "        self.weights = np.random.rand(X.shape[1])\n",
    "        self.bias = 0\n",
    "\n",
    "        for _ in range(self.epochs):\n",
    "            for i in range(X.shape[0]):\n",
    "                prediction = self.predict(X[i])\n",
    "                error = y[i] - prediction\n",
    "                self.weights += self.learning_rate * error * X[i]\n",
    "                self.bias += self.learning_rate * error\n",
    "\n",
    "    def predict(self, x):\n",
    "        activation = np.dot(x, self.weights) + self.bias\n",
    "        return 1 if activation >= 0 else 0\n",
    "\n",
    "\n",
    "X = np.array([[0, 0], [0, 1], [1, 0], [1, 1]])\n",
    "y = np.array([0, 0, 0, 1])\n",
    "\n",
    "\n",
    "perceptron = Perceptron()\n",
    "perceptron.fit(X, y)\n",
    "\n",
    "\n",
    "print(\"Predictions:\")\n",
    "print(perceptron.predict([0, 0]))  \n",
    "print(perceptron.predict([0, 1])) \n",
    "print(perceptron.predict([1, 0])) \n",
    "print(perceptron.predict([1, 1])) "
   ]
  },
  {
   "cell_type": "markdown",
   "id": "65cfdd62-086e-4fc8-8d82-c860adfe3ad9",
   "metadata": {},
   "source": [
    "### NOR Gate implementation with binary input and bipolar target using adaline."
   ]
  },
  {
   "cell_type": "code",
   "execution_count": 2,
   "id": "5bf7e1a6-43a3-49d7-8f0c-b035643600a4",
   "metadata": {},
   "outputs": [
    {
     "name": "stdout",
     "output_type": "stream",
     "text": [
      "EPOCH 1 Errors\n",
      "\n",
      "2.5600000000000005 1.2544000000000002 0.4303359999999999 1.4708838400000002 \n",
      "\n",
      "Total Mean Error : 5.7156198400000005 \n",
      "\n",
      "\n",
      "EPOCH 2 Errors\n",
      "\n",
      "0.9513271295999998 0.5691676426240001 0.1063532108185601 0.8033574186123268 \n",
      "\n",
      "Total Mean Error : 2.4302054016548866 \n",
      "\n",
      "\n",
      "EPOCH 3 Errors\n",
      "\n",
      "0.617033023426134 0.494715001503786 0.3690351509031695 0.6049607329626666 \n",
      "\n",
      "Total Mean Error : 2.085743908795756 \n",
      "\n",
      "\n",
      "EPOCH 4 Errors\n",
      "\n",
      "0.5357255178865599 0.49672250781889216 0.47045212857862795 0.5411655402267711 \n",
      "\n",
      "Total Mean Error : 2.0440656945108513 \n",
      "\n",
      "\n",
      "EPOCH 5 Errors\n",
      "\n",
      "0.5155772952921179 0.5038565434215028 0.4999325560892935 0.5201882406262993 \n",
      "\n",
      "Total Mean Error : 2.0395546354292136 \n",
      "\n",
      "\n"
     ]
    }
   ],
   "source": [
    "arr = [[1, 1], [1, -1], [-1, 1], [-1, -1]]\n",
    "\n",
    "\n",
    "t = [-1, 1, -1, -1]\n",
    "w1 = 0.2\n",
    "w2 = 0.2\n",
    "b = 0.2\n",
    "\n",
    "\n",
    "\n",
    "for i in range(5):\n",
    "    avg = 0\n",
    "    print(\"EPOCH\", i + 1, \"Errors\\n\")\n",
    "    for j in range(4):\n",
    "       \n",
    "        yi = arr[j][0] * w1 + arr[j][1] * w2 + 1 * b\n",
    "        dif = t[j] - yi\n",
    "\n",
    "        4  \n",
    "        w1 += 0.2 * dif * arr[j][0]\n",
    "        w2 += 0.2 * dif * arr[j][1]\n",
    "        b += 0.2 * dif * 1\n",
    "        err = dif * dif\n",
    "        print(err, end=\" \")\n",
    "        avg += err\n",
    "    print(\"\\n\\nTotal Mean Error :\", avg, \"\\n\\n\")\n"
   ]
  },
  {
   "cell_type": "markdown",
   "id": "2c3bb21c-6af7-4abe-b836-c679154371f3",
   "metadata": {},
   "source": [
    "#### XOR Gate implementation with bipolar input target using madaline. "
   ]
  },
  {
   "cell_type": "code",
   "execution_count": 2,
   "id": "066b8abc-f5b8-4387-b48f-04c22b4a7c71",
   "metadata": {},
   "outputs": [
    {
     "name": "stdout",
     "output_type": "stream",
     "text": [
      "AND Function output is: \n",
      "Input: (0, 0), Output: 0\n",
      "Input: (0, 1), Output: 0\n",
      "Input: (1, 0), Output: 0\n",
      "Input: (1, 1), Output: 1\n"
     ]
    }
   ],
   "source": [
    "def perceptron_and(x1, x2):\n",
    "    w1, w2, b = 1, 1, -1.5\n",
    "    z = w1 * x1 + w2 * x2 + b\n",
    "\n",
    "    return 1 if z > 0 else 0\n",
    "\n",
    "\n",
    "inputs = [(0, 0),\n",
    "          (0, 1),\n",
    "          (1, 0),\n",
    "          (1, 1)]\n",
    "outputs = [perceptron_and(x1, x2) for x1, x2 in inputs]\n",
    "\n",
    "print(\"AND Function output is: \")\n",
    "for i, o in zip(inputs, outputs):\n",
    "    print(f\"Input: {i}, Output: {o}\")"
   ]
  },
  {
   "cell_type": "markdown",
   "id": "c65af258-d3d6-49cf-a1bd-5d791be22848",
   "metadata": {},
   "source": [
    "#### Create a perceptron with appropriate no. of inputs and outputs. Train it using fixed increment learning algorithm until no change in weight is required. Output the final weights4. "
   ]
  },
  {
   "cell_type": "code",
   "execution_count": 4,
   "id": "cd262444-3ac9-4731-b8c8-d10c54ba688d",
   "metadata": {},
   "outputs": [
    {
     "name": "stdout",
     "output_type": "stream",
     "text": [
      "Training completed!\n",
      "Final weights: [0.2 0.1]\n",
      "Final bias: -0.2\n",
      "Total epochs: 6\n"
     ]
    }
   ],
   "source": [
    "import numpy as np\n",
    "\n",
    "# Define the AND function dataset\n",
    "inputs = np.array([\n",
    "    [0, 0],\n",
    "    [0, 1],\n",
    "    [1, 0],\n",
    "    [1, 1]\n",
    "])\n",
    "targets = np.array([0, 0, 0, 1])  # Corresponding outputs\n",
    "\n",
    "# Initialize weights and bias\n",
    "weights = np.zeros(2)  # Two inputs, so two weights\n",
    "bias = 0.0\n",
    "learning_rate = 0.1  # Fixed increment\n",
    "\n",
    "# Activation function (Step function)\n",
    "def activation_function(z):\n",
    "    return 1 if z > 0 else 0\n",
    "\n",
    "# Training the perceptron\n",
    "def train_perceptron(inputs, targets, weights, bias, learning_rate):\n",
    "    epochs = 0\n",
    "    while True:\n",
    "        weights_updated = False\n",
    "        for x, target in zip(inputs, targets):\n",
    "            # Compute the perceptron output\n",
    "            z = np.dot(weights, x) + bias\n",
    "            y = activation_function(z)\n",
    "            \n",
    "            # Calculate the error\n",
    "            error = target - y\n",
    "            \n",
    "            # Update weights and bias if there's an error\n",
    "            if error != 0:\n",
    "                weights += learning_rate * error * x\n",
    "                bias += learning_rate * error\n",
    "                weights_updated = True\n",
    "        \n",
    "        # Increment the epoch counter\n",
    "        epochs += 1\n",
    "        \n",
    "        # Stop if no weights were updated in this epoch\n",
    "        if not weights_updated:\n",
    "            break\n",
    "    \n",
    "    return weights, bias, epochs\n",
    "\n",
    "# Train the perceptron\n",
    "final_weights, final_bias, epochs = train_perceptron(inputs, targets, weights, bias, learning_rate)\n",
    "\n",
    "# Output the results\n",
    "print(\"Training completed!\")\n",
    "print(f\"Final weights: {final_weights}\")\n",
    "print(f\"Final bias: {final_bias}\")\n",
    "print(f\"Total epochs: {epochs}\")"
   ]
  },
  {
   "cell_type": "markdown",
   "id": "7185c159-1cc1-4ea4-8724-1cd6fc307802",
   "metadata": {},
   "source": [
    "#### Using back-propagation network, find the new weights. It is presented with the input pattern [0, 1] and the target output is 1. Use a learning rate a = 0.25 and binar sigmoidal activation function."
   ]
  },
  {
   "cell_type": "code",
   "execution_count": 5,
   "id": "0f66f6da-b439-4726-b1de-b8dba2f7a013",
   "metadata": {},
   "outputs": [
    {
     "name": "stdout",
     "output_type": "stream",
     "text": [
      "Updated weights:\n",
      "w1: 0.1\n",
      "w2: -0.19720655631475034\n",
      "w3: 0.4127013048433877\n"
     ]
    }
   ],
   "source": [
    "import numpy as np\n",
    "\n",
    "def sigmoid(x):\n",
    "    \"\"\"Binary sigmoid activation function.\"\"\"\n",
    "    return 1 / (1 + np.exp(-x))\n",
    "\n",
    "def sigmoid_derivative(x):\n",
    "    \"\"\"Derivative of the binary sigmoid function.\"\"\"\n",
    "    return x * (1 - x)\n",
    "\n",
    "# Initial weights\n",
    "w1, w2, w3 = 0.1, -0.2, 0.4  # Weights for input to hidden and hidden to output\n",
    "\n",
    "# Input pattern and target\n",
    "x = np.array([0, 1])  # Input pattern [x1, x2]\n",
    "target = 1  # Target output\n",
    "a = 0.25  # Learning rate\n",
    "\n",
    "# Forward pass\n",
    "# Compute hidden layer activation\n",
    "h_net = w1 * x[0] + w2 * x[1]  # Weighted input to the hidden layer\n",
    "h = sigmoid(h_net)  # Activation of the hidden layer\n",
    "\n",
    "# Compute output layer activation\n",
    "o_net = h * w3  # Weighted input to the output layer\n",
    "o = sigmoid(o_net)  # Activation of the output layer\n",
    "\n",
    "# Compute error\n",
    "error = target - o\n",
    "\n",
    "# Backpropagation\n",
    "# Gradient for output layer\n",
    "delta_o = error * sigmoid_derivative(o)\n",
    "\n",
    "# Gradient for hidden layer\n",
    "delta_h = delta_o * w3 * sigmoid_derivative(h)\n",
    "\n",
    "# Update weights\n",
    "w3_new = w3 + a * delta_o * h  # Update weight from hidden to output\n",
    "w1_new = w1 + a * delta_h * x[0]  # Update weight from input[0] to hidden\n",
    "w2_new = w2 + a * delta_h * x[1]  # Update weight from input[1] to hidden\n",
    "\n",
    "# Print updated weights\n",
    "print(f\"Updated weights:\")\n",
    "print(f\"w1: {w1_new}\")\n",
    "print(f\"w2: {w2_new}\")\n",
    "print(f\"w3: {w3_new}\")\n"
   ]
  },
  {
   "cell_type": "markdown",
   "id": "d1a6c0e3-48c3-41fc-a341-6a1dc7375077",
   "metadata": {},
   "source": [
    "#### Program to perform Union, Intersection and Complement oprations in fuzzy set."
   ]
  },
  {
   "cell_type": "code",
   "execution_count": 6,
   "id": "ff4d0533-1085-40d7-aa11-ffcc26852b1a",
   "metadata": {},
   "outputs": [
    {
     "name": "stdout",
     "output_type": "stream",
     "text": [
      "Union: [0.4 0.7 0.8 0.9]\n",
      "Intersection: [0.2 0.5 0.6 0.3]\n",
      "Complement of Set A: [0.8 0.5 0.2 0.1]\n",
      "Complement of Set B: [0.6 0.3 0.4 0.7]\n"
     ]
    }
   ],
   "source": [
    "import numpy as np\n",
    "\n",
    "def union_fuzzy(set_a, set_b):\n",
    "    \"\"\"Perform union operation on two fuzzy sets.\"\"\"\n",
    "    return np.maximum(set_a, set_b)\n",
    "\n",
    "def intersection_fuzzy(set_a, set_b):\n",
    "    \"\"\"Perform intersection operation on two fuzzy sets.\"\"\"\n",
    "    return np.minimum(set_a, set_b)\n",
    "\n",
    "def complement_fuzzy(fuzzy_set):\n",
    "    \"\"\"Perform complement operation on a fuzzy set.\"\"\"\n",
    "    return 1 - fuzzy_set\n",
    "\n",
    "# Example usage\n",
    "if __name__ == \"__main__\":\n",
    "    # Define two fuzzy sets\n",
    "    set_a = np.array([0.2, 0.5, 0.8, 0.9])\n",
    "    set_b = np.array([0.4, 0.7, 0.6, 0.3])\n",
    "\n",
    "    # Perform union\n",
    "    union_result = union_fuzzy(set_a, set_b)\n",
    "    print(f\"Union: {union_result}\")\n",
    "\n",
    "    # Perform intersection\n",
    "    intersection_result = intersection_fuzzy(set_a, set_b)\n",
    "    print(f\"Intersection: {intersection_result}\")\n",
    "\n",
    "    # Perform complement\n",
    "    complement_result_a = complement_fuzzy(set_a)\n",
    "    print(f\"Complement of Set A: {complement_result_a}\")\n",
    "\n",
    "    complement_result_b = complement_fuzzy(set_b)\n",
    "    print(f\"Complement of Set B: {complement_result_b}\")\n"
   ]
  },
  {
   "cell_type": "markdown",
   "id": "c87ac659-ada7-489c-9260-c6fbd56906a5",
   "metadata": {},
   "source": [
    "#### Write a Python program that asks the user to enter two fuzzy sets and computes the resultant fuzzy relation for value up to 10 that are greater than 6."
   ]
  },
  {
   "cell_type": "code",
   "execution_count": 4,
   "id": "361fce59-9d1e-4d24-8992-431674428786",
   "metadata": {},
   "outputs": [
    {
     "name": "stdout",
     "output_type": "stream",
     "text": [
      "Enter the fuzzy set 'Fuzzy Set 1' (enter 'done' to finish):\n"
     ]
    },
    {
     "name": "stdin",
     "output_type": "stream",
     "text": [
      "Enter value (0-10) or 'done':  5\n",
      "Enter membership value for 5.0 (0-1):  0.5\n",
      "Enter value (0-10) or 'done':  2\n",
      "Enter membership value for 2.0 (0-1):  1\n",
      "Enter value (0-10) or 'done':  done\n"
     ]
    },
    {
     "name": "stdout",
     "output_type": "stream",
     "text": [
      "Enter the fuzzy set 'Fuzzy Set 2' (enter 'done' to finish):\n"
     ]
    },
    {
     "name": "stdin",
     "output_type": "stream",
     "text": [
      "Enter value (0-10) or 'done':  3\n",
      "Enter membership value for 3.0 (0-1):  0.33\n",
      "Enter value (0-10) or 'done':  8\n",
      "Enter membership value for 8.0 (0-1):  0.11\n",
      "Enter value (0-10) or 'done':  done\n"
     ]
    },
    {
     "name": "stdout",
     "output_type": "stream",
     "text": [
      "\n",
      "Resultant Fuzzy Relation (Filtered for values greater than 6):\n",
      "Relation (5.0, 8.0): Membership = 0.11\n",
      "Relation (2.0, 8.0): Membership = 0.11\n"
     ]
    }
   ],
   "source": [
    "def input_fuzzy_set(name):\n",
    "    fuzzy_set = {}\n",
    "    print(f\"Enter the fuzzy set '{name}' (enter 'done' to finish):\")\n",
    "    while True:\n",
    "        value = input(\"Enter value (0-10) or 'done': \")\n",
    "        if value.lower() == 'done':\n",
    "            break\n",
    "        try:\n",
    "            value = float(value)\n",
    "            if 0 <= value <= 10:\n",
    "                membership = float(input(f\"Enter membership value for {value} (0-1): \"))\n",
    "                if 0 <= membership <= 1:\n",
    "                    fuzzy_set[value] = membership\n",
    "                else:\n",
    "                    print(\"Membership value must be between 0 and 1.\")\n",
    "            else:\n",
    "                print(\"Value must be between 0 and 10.\")\n",
    "        except ValueError:\n",
    "            print(\"Invalid input. Please enter a numeric value.\")\n",
    "    return fuzzy_set\n",
    "\n",
    "def compute_fuzzy_relation(set1, set2):\n",
    "    resultant_set = {}\n",
    "    for value1, membership1 in set1.items():\n",
    "        for value2, membership2 in set2.items():\n",
    "\n",
    "            relation_value = min(membership1, membership2)\n",
    "            resultant_set[(value1, value2)] = relation_value\n",
    "    return resultant_set\n",
    "\n",
    "def filter_relation(relation):\n",
    "    filtered_relation = {k: v for k, v in relation.items() if k[0] > 6 or k[1] > 6}\n",
    "    return filtered_relation\n",
    "\n",
    "def main():\n",
    "\n",
    "    fuzzy_set1 = input_fuzzy_set('Fuzzy Set 1')\n",
    "    fuzzy_set2 = input_fuzzy_set('Fuzzy Set 2')\n",
    "\n",
    "    fuzzy_relation = compute_fuzzy_relation(fuzzy_set1, fuzzy_set2)\n",
    "\n",
    "\n",
    "    filtered_relation = filter_relation(fuzzy_relation)\n",
    "\n",
    "\n",
    "    print(\"\\nResultant Fuzzy Relation (Filtered for values greater than 6):\")\n",
    "    for key, value in filtered_relation.items():\n",
    "        print(f\"Relation {key}: Membership = {value:.2f}\")\n",
    "\n",
    "if __name__ == \"__main__\":\n",
    "    main()\n"
   ]
  },
  {
   "cell_type": "markdown",
   "id": "1b3e307b-a83a-4184-9c76-5ccf995254a7",
   "metadata": {},
   "source": [
    "#### Create two matrices of dimension 3x3 and 3x4 respectively which contain random number as there elements. Compute composition of these two fuzzy relation using both max-min and max-product composition."
   ]
  },
  {
   "cell_type": "code",
   "execution_count": 1,
   "id": "fc1f4cd1-e55a-4f01-9908-82bd66512ea6",
   "metadata": {},
   "outputs": [
    {
     "name": "stdout",
     "output_type": "stream",
     "text": [
      "Matrix A (3x3):\n",
      "[[0.69405787 0.63122429 0.26809863]\n",
      " [0.99416667 0.53073163 0.34424275]\n",
      " [0.7460188  0.08708139 0.40082033]]\n",
      "\n",
      "Matrix B (3x4):\n",
      "[[0.95271883 0.88198916 0.41791891 0.30148356]\n",
      " [0.48428264 0.84518975 0.68719251 0.97270437]\n",
      " [0.22758597 0.43433496 0.44732473 0.96969735]]\n",
      "\n",
      "Max-Min Composition Result (3x4):\n",
      "[[0.69405787 0.69405787 0.63122429 0.63122429]\n",
      " [0.95271883 0.88198916 0.53073163 0.53073163]\n",
      " [0.7460188  0.7460188  0.41791891 0.40082033]]\n",
      "\n",
      "Max-Product Composition Result (3x4):\n",
      "[[0.66124201 0.61215152 0.4337726  0.61399462]\n",
      " [0.94716131 0.87684422 0.41548105 0.51624497]\n",
      " [0.71074616 0.65798049 0.31177536 0.38867441]]\n"
     ]
    }
   ],
   "source": [
    "import numpy as np\n",
    "\n",
    "def max_min_composition(A, B):\n",
    "    rows_A, cols_A = A.shape\n",
    "    rows_B, cols_B = B.shape\n",
    "    result = np.zeros((rows_A, cols_B))\n",
    "\n",
    "    for i in range(rows_A):\n",
    "        for j in range(cols_B):\n",
    "            result[i, j] = np.max([np.min([A[i, k], B[k, j]]) for k in range(cols_A)])\n",
    "\n",
    "    return result\n",
    "\n",
    "def max_product_composition(A, B):\n",
    "    rows_A, cols_A = A.shape\n",
    "    rows_B, cols_B = B.shape\n",
    "    result = np.zeros((rows_A, cols_B))\n",
    "\n",
    "    for i in range(rows_A):\n",
    "        for j in range(cols_B):\n",
    "            result[i, j] = np.max([A[i, k] * B[k, j] for k in range(cols_A)])\n",
    "\n",
    "    return result\n",
    "\n",
    "def main():\n",
    "    \n",
    "    A = np.random.rand(3, 3)  # Matrix of size 3x3\n",
    "    B = np.random.rand(3, 4)  # Matrix of size 3x4\n",
    "\n",
    "    print(\"Matrix A (3x3):\")\n",
    "    print(A)\n",
    "\n",
    "    print(\"\\nMatrix B (3x4):\")\n",
    "    print(B)\n",
    "\n",
    "    # Max-Min Composition\n",
    "    max_min_result = max_min_composition(A, B)\n",
    "    print(\"\\nMax-Min Composition Result (3x4):\")\n",
    "    print(max_min_result)\n",
    "\n",
    "    # Max-Product Composition\n",
    "    max_product_result = max_product_composition(A, B)\n",
    "    print(\"\\nMax-Product Composition Result (3x4):\")\n",
    "    print(max_product_result)\n",
    "\n",
    "if __name__ == \"__main__\":\n",
    "    main()\n"
   ]
  },
  {
   "cell_type": "markdown",
   "id": "49251e3d-3235-43df-95b7-bdf2201ba15d",
   "metadata": {},
   "source": [
    "#### Write a program that creates two random fuzzy sets of the dimension say n and m (to be defined by the user) Complete the fuzzy relation indexed by the Caresian product of the sets."
   ]
  },
  {
   "cell_type": "code",
   "execution_count": 8,
   "id": "f42215fe-2b34-48c2-87dd-2156b14f5d71",
   "metadata": {},
   "outputs": [
    {
     "name": "stdin",
     "output_type": "stream",
     "text": [
      "Enter the size of the first fuzzy set (n):  3\n",
      "Enter the size of the second fuzzy set (m):  4\n"
     ]
    },
    {
     "name": "stdout",
     "output_type": "stream",
     "text": [
      "Fuzzy Set A: [0.79831913 0.26078695 0.85017132]\n",
      "Fuzzy Set B: [0.74494831 0.57041649 0.86728889 0.83856423]\n",
      "Fuzzy Relation (Cartesian Product):\n",
      "[[0.74494831 0.57041649 0.79831913 0.79831913]\n",
      " [0.26078695 0.26078695 0.26078695 0.26078695]\n",
      " [0.74494831 0.57041649 0.85017132 0.83856423]]\n"
     ]
    }
   ],
   "source": [
    "import numpy as np\n",
    "\n",
    "def create_random_fuzzy_set(size):\n",
    "    \"\"\"Create a random fuzzy set with the given size.\"\"\"\n",
    "    return np.random.rand(size)\n",
    "\n",
    "def create_fuzzy_relation(set_a, set_b):\n",
    "    \"\"\"Create a fuzzy relation based on the Cartesian product of two sets.\"\"\"\n",
    "    relation = np.zeros((len(set_a), len(set_b)))\n",
    "    for i in range(len(set_a)):\n",
    "        for j in range(len(set_b)):\n",
    "            relation[i, j] = min(set_a[i], set_b[j])  # Using min as the fuzzy relation rule\n",
    "    return relation\n",
    "\n",
    "if __name__ == \"__main__\":\n",
    "    # Input dimensions for the fuzzy sets\n",
    "    n = int(input(\"Enter the size of the first fuzzy set (n): \"))\n",
    "    m = int(input(\"Enter the size of the second fuzzy set (m): \"))\n",
    "\n",
    "    # Generate random fuzzy sets\n",
    "    set_a = create_random_fuzzy_set(n)\n",
    "    set_b = create_random_fuzzy_set(m)\n",
    "\n",
    "    print(f\"Fuzzy Set A: {set_a}\")\n",
    "    print(f\"Fuzzy Set B: {set_b}\")\n",
    "\n",
    "    # Generate fuzzy relation\n",
    "    fuzzy_relation = create_fuzzy_relation(set_a, set_b)\n",
    "\n",
    "    print(\"Fuzzy Relation (Cartesian Product):\")\n",
    "    print(fuzzy_relation)\n"
   ]
  },
  {
   "cell_type": "markdown",
   "id": "4f1751bc-9365-4148-a522-247defe4de5e",
   "metadata": {},
   "source": [
    "#### Genetic neuro hybrid systems, Genetic-Fuzzy rule based system."
   ]
  },
  {
   "cell_type": "code",
   "execution_count": 9,
   "id": "8c03f1bd-76b5-48e0-9dde-8ec1166191c6",
   "metadata": {},
   "outputs": [
    {
     "name": "stdout",
     "output_type": "stream",
     "text": [
      "Best individual's weights:\n",
      "Input to Hidden Weights: [[-0.30536734  0.44327772  0.11794367]\n",
      " [ 0.46797606 -0.17881231  0.97679617]]\n",
      "Hidden to Output Weights: [[-0.83937369]\n",
      " [-0.93260607]\n",
      " [ 0.80643615]]\n"
     ]
    }
   ],
   "source": [
    "import numpy as np\n",
    "import random\n",
    "\n",
    "# Genetic Algorithm for optimizing a neural network\n",
    "class GeneticNeuroHybrid:\n",
    "    def __init__(self, population_size, input_size, hidden_size, output_size):\n",
    "        self.population_size = population_size\n",
    "        self.input_size = input_size\n",
    "        self.hidden_size = hidden_size\n",
    "        self.output_size = output_size\n",
    "        self.population = self.initialize_population()\n",
    "\n",
    "    def initialize_population(self):\n",
    "        \"\"\"Initialize a population of neural network weights.\"\"\"\n",
    "        population = []\n",
    "        for _ in range(self.population_size):\n",
    "            individual = {\n",
    "                \"weights_input_hidden\": np.random.uniform(-1, 1, (self.input_size, self.hidden_size)),\n",
    "                \"weights_hidden_output\": np.random.uniform(-1, 1, (self.hidden_size, self.output_size))\n",
    "            }\n",
    "            population.append(individual)\n",
    "        return population\n",
    "\n",
    "    def fitness(self, individual, X, y):\n",
    "        \"\"\"Evaluate the fitness of an individual using Mean Squared Error (MSE).\"\"\"\n",
    "        weights_input_hidden = individual[\"weights_input_hidden\"]\n",
    "        weights_hidden_output = individual[\"weights_hidden_output\"]\n",
    "\n",
    "        hidden_layer = np.dot(X, weights_input_hidden)\n",
    "        hidden_layer_activation = self.sigmoid(hidden_layer)\n",
    "        output_layer = np.dot(hidden_layer_activation, weights_hidden_output)\n",
    "        predictions = self.sigmoid(output_layer)\n",
    "\n",
    "        mse = np.mean((y - predictions) ** 2)\n",
    "        return 1 / (1 + mse)  # Higher fitness for lower MSE\n",
    "\n",
    "    def selection(self):\n",
    "        \"\"\"Select individuals based on their fitness (roulette wheel selection).\"\"\"\n",
    "        fitness_scores = [self.fitness(ind, X, y) for ind in self.population]\n",
    "        total_fitness = sum(fitness_scores)\n",
    "        probabilities = [score / total_fitness for score in fitness_scores]\n",
    "        selected = random.choices(self.population, weights=probabilities, k=2)\n",
    "        return selected\n",
    "\n",
    "    def crossover(self, parent1, parent2):\n",
    "        \"\"\"Perform single-point crossover between two parents.\"\"\"\n",
    "        child1, child2 = {}, {}\n",
    "\n",
    "        for key in parent1.keys():\n",
    "            point = random.randint(0, parent1[key].size - 1)\n",
    "            flat1, flat2 = parent1[key].flatten(), parent2[key].flatten()\n",
    "            \n",
    "            new_flat1 = np.concatenate([flat1[:point], flat2[point:]])\n",
    "            new_flat2 = np.concatenate([flat2[:point], flat1[point:]])\n",
    "            \n",
    "            child1[key] = new_flat1.reshape(parent1[key].shape)\n",
    "            child2[key] = new_flat2.reshape(parent2[key].shape)\n",
    "\n",
    "        return child1, child2\n",
    "\n",
    "    def mutation(self, individual, mutation_rate=0.01):\n",
    "        \"\"\"Perform mutation on an individual's weights.\"\"\"\n",
    "        for key in individual.keys():\n",
    "            if random.random() < mutation_rate:\n",
    "                mutation_matrix = np.random.uniform(-0.5, 0.5, individual[key].shape)\n",
    "                individual[key] += mutation_matrix\n",
    "\n",
    "    def sigmoid(self, x):\n",
    "        \"\"\"Sigmoid activation function.\"\"\"\n",
    "        return 1 / (1 + np.exp(-x))\n",
    "\n",
    "    def evolve(self, X, y, generations):\n",
    "        \"\"\"Evolve the population over a number of generations.\"\"\"\n",
    "        for _ in range(generations):\n",
    "            new_population = []\n",
    "            for _ in range(self.population_size // 2):\n",
    "                parent1, parent2 = self.selection()\n",
    "                child1, child2 = self.crossover(parent1, parent2)\n",
    "                self.mutation(child1)\n",
    "                self.mutation(child2)\n",
    "                new_population.extend([child1, child2])\n",
    "\n",
    "            self.population = new_population\n",
    "\n",
    "        # Return the best individual in the population\n",
    "        fitness_scores = [self.fitness(ind, X, y) for ind in self.population]\n",
    "        best_index = np.argmax(fitness_scores)\n",
    "        return self.population[best_index]\n",
    "\n",
    "# Example usage\n",
    "if __name__ == \"__main__\":\n",
    "    # Dataset\n",
    "    X = np.array([[0, 0], [0, 1], [1, 0], [1, 1]])\n",
    "    y = np.array([[0], [1], [1], [0]])  # XOR problem\n",
    "\n",
    "    # Parameters\n",
    "    population_size = 10\n",
    "    input_size = 2\n",
    "    hidden_size = 3\n",
    "    output_size = 1\n",
    "    generations = 50\n",
    "\n",
    "    # Genetic Neuro Hybrid System\n",
    "    gnh = GeneticNeuroHybrid(population_size, input_size, hidden_size, output_size)\n",
    "    best_individual = gnh.evolve(X, y, generations)\n",
    "\n",
    "    print(\"Best individual's weights:\")\n",
    "    print(\"Input to Hidden Weights:\", best_individual[\"weights_input_hidden\"])\n",
    "    print(\"Hidden to Output Weights:\", best_individual[\"weights_hidden_output\"])"
   ]
  },
  {
   "cell_type": "markdown",
   "id": "2961761f-9862-466f-a59a-43dd0b27c18e",
   "metadata": {},
   "source": [
    "#### Consider a set P= {p1, p2, p3, p4, p5} of five varities of plants. Set D= {D1, D2, D3, D4, D5} of the various diseases affecting the plants and S = {s1, s2, s3, s4, s5} be the common symptoms. Let R=P X D & Q=D X S"
   ]
  },
  {
   "cell_type": "code",
   "execution_count": 10,
   "id": "3597c651-f09a-4b3f-a209-fbf66c112ef1",
   "metadata": {},
   "outputs": [
    {
     "name": "stdout",
     "output_type": "stream",
     "text": [
      "Relation R (P x D):\n",
      "('p1', 'D1')\n",
      "('p1', 'D2')\n",
      "('p1', 'D3')\n",
      "('p1', 'D4')\n",
      "('p1', 'D5')\n",
      "('p2', 'D1')\n",
      "('p2', 'D2')\n",
      "('p2', 'D3')\n",
      "('p2', 'D4')\n",
      "('p2', 'D5')\n",
      "('p3', 'D1')\n",
      "('p3', 'D2')\n",
      "('p3', 'D3')\n",
      "('p3', 'D4')\n",
      "('p3', 'D5')\n",
      "('p4', 'D1')\n",
      "('p4', 'D2')\n",
      "('p4', 'D3')\n",
      "('p4', 'D4')\n",
      "('p4', 'D5')\n",
      "('p5', 'D1')\n",
      "('p5', 'D2')\n",
      "('p5', 'D3')\n",
      "('p5', 'D4')\n",
      "('p5', 'D5')\n",
      "\n",
      "Relation Q (D x S):\n",
      "('D1', 's1')\n",
      "('D1', 's2')\n",
      "('D1', 's3')\n",
      "('D1', 's4')\n",
      "('D1', 's5')\n",
      "('D2', 's1')\n",
      "('D2', 's2')\n",
      "('D2', 's3')\n",
      "('D2', 's4')\n",
      "('D2', 's5')\n",
      "('D3', 's1')\n",
      "('D3', 's2')\n",
      "('D3', 's3')\n",
      "('D3', 's4')\n",
      "('D3', 's5')\n",
      "('D4', 's1')\n",
      "('D4', 's2')\n",
      "('D4', 's3')\n",
      "('D4', 's4')\n",
      "('D4', 's5')\n",
      "('D5', 's1')\n",
      "('D5', 's2')\n",
      "('D5', 's3')\n",
      "('D5', 's4')\n",
      "('D5', 's5')\n",
      "\n",
      "Matrix representation of R (P x D):\n",
      "[[0.63141205 0.53100343 0.41948555 0.30923465 0.14771237]\n",
      " [0.20987904 0.28913537 0.27679495 0.63313684 0.65172458]\n",
      " [0.2502586  0.66623318 0.12418545 0.3269911  0.92434544]\n",
      " [0.75147137 0.64903353 0.25468653 0.98084679 0.32216596]\n",
      " [0.69684378 0.74850022 0.43791614 0.79674018 0.79940288]]\n",
      "\n",
      "Matrix representation of Q (D x S):\n",
      "[[0.93311821 0.22774837 0.11482013 0.27704976 0.70270516]\n",
      " [0.69225405 0.54090187 0.67535809 0.75128186 0.83647136]\n",
      " [0.72953482 0.12217952 0.95708376 0.12129057 0.85725207]\n",
      " [0.73212246 0.66842815 0.78581229 0.47191419 0.20152353]\n",
      " [0.6221642  0.95551586 0.12295277 0.38589464 0.48812242]]\n"
     ]
    }
   ],
   "source": [
    "import numpy as np\n",
    "\n",
    "# Define the sets\n",
    "plants = [\"p1\", \"p2\", \"p3\", \"p4\", \"p5\"]  # Set P\n",
    "\n",
    "diseases = [\"D1\", \"D2\", \"D3\", \"D4\", \"D5\"]  # Set D\n",
    "\n",
    "symptoms = [\"s1\", \"s2\", \"s3\", \"s4\", \"s5\"]  # Set S\n",
    "\n",
    "# Cartesian Products\n",
    "relation_R = [(p, d) for p in plants for d in diseases]  # R = P x D\n",
    "relation_Q = [(d, s) for d in diseases for s in symptoms]  # Q = D x S\n",
    "\n",
    "# Display the Cartesian Products\n",
    "print(\"Relation R (P x D):\")\n",
    "for pair in relation_R:\n",
    "    print(pair)\n",
    "\n",
    "print(\"\\nRelation Q (D x S):\")\n",
    "for pair in relation_Q:\n",
    "    print(pair)\n",
    "\n",
    "# Optionally, you can represent these relations as matrices\n",
    "# Create random association strengths for demonstration (values between 0 and 1)\n",
    "R_matrix = np.random.rand(len(plants), len(diseases))\n",
    "Q_matrix = np.random.rand(len(diseases), len(symptoms))\n",
    "\n",
    "print(\"\\nMatrix representation of R (P x D):\")\n",
    "print(R_matrix)\n",
    "\n",
    "print(\"\\nMatrix representation of Q (D x S):\")\n",
    "print(Q_matrix)\n"
   ]
  },
  {
   "cell_type": "markdown",
   "id": "5331346e-9933-48b1-b966-138a75c63043",
   "metadata": {},
   "source": [
    "#### Train an autocorrelator network for the pattern [1,-1,1,1] and also test the new weight for one missing and one mistake entry in the test vector respectively"
   ]
  },
  {
   "cell_type": "code",
   "execution_count": 11,
   "id": "a624de70-1e89-4160-8c39-fe497dcd4848",
   "metadata": {},
   "outputs": [
    {
     "name": "stdout",
     "output_type": "stream",
     "text": [
      "Output for missing entry test: [ 1 -1  1  1]\n",
      "Output for mistake entry test: [ 1 -1  1  1]\n"
     ]
    }
   ],
   "source": [
    "import numpy as np\n",
    "\n",
    "# Step 1: Define the pattern\n",
    "pattern = np.array([1, -1, 1, 1])\n",
    "\n",
    "# Step 2: Train the network using Hebbian learning rule\n",
    "def train_autocorrelator(pattern):\n",
    "    # Hebbian learning: W = p * p^T (outer product of the pattern with itself)\n",
    "    weight_matrix = np.outer(pattern, pattern)\n",
    "    return weight_matrix\n",
    "\n",
    "# Step 3: Define the function for testing the network\n",
    "def test_autocorrelator(weight_matrix, test_input):\n",
    "    # Apply the weight matrix to the test input and apply a threshold to recall the pattern\n",
    "    output = np.sign(np.dot(weight_matrix, test_input))  # Use sign to threshold the output\n",
    "    return output\n",
    "\n",
    "# Step 4: Train the autocorrelator network\n",
    "weight_matrix = train_autocorrelator(pattern)\n",
    "\n",
    "# Step 5: Test the network with missing and incorrect entries\n",
    "\n",
    "# Test 1: One missing entry (e.g., second entry is missing, set to zero)\n",
    "test_input_missing = np.array([1, 0, 1, 1])  # Missing entry (second position set to 0)\n",
    "output_missing = test_autocorrelator(weight_matrix, test_input_missing)\n",
    "\n",
    "# Test 2: One mistake (e.g., second entry is incorrect, set to wrong value)\n",
    "test_input_mistake = np.array([1, 1, 1, 1])  # Mistake in second position (should be -1)\n",
    "output_mistake = test_autocorrelator(weight_matrix, test_input_mistake)\n",
    "\n",
    "# Step 6: Print the results\n",
    "print(\"Output for missing entry test:\", output_missing)\n",
    "print(\"Output for mistake entry test:\", output_mistake)\n"
   ]
  },
  {
   "cell_type": "markdown",
   "id": "21364851-4a1c-489d-b620-b1404aad77ef",
   "metadata": {},
   "source": [
    "#### Train the autocorrelator by given patterns: A1=(-1,1,-1,1), A2=(1,1,1,-1),A3=(-1, -1, - 1, 1). Test it using patterns: Ax=(-1,1,-1,1), Ay=(1,1,1,1), Az=(-1,-1,-1,-1)."
   ]
  },
  {
   "cell_type": "code",
   "execution_count": 12,
   "id": "a1a43922-e497-45a4-80df-11044c858af0",
   "metadata": {},
   "outputs": [
    {
     "name": "stdout",
     "output_type": "stream",
     "text": [
      "Output for Ax test pattern (-1, 1, -1, 1): [-1.  0. -1.  1.]\n",
      "Output for Ay test pattern (1, 1, 1, 1): [ 1.  1.  1. -1.]\n",
      "Output for Az test pattern (-1, -1, -1, -1): [-1. -1. -1.  1.]\n"
     ]
    }
   ],
   "source": [
    "import numpy as np\n",
    "\n",
    "# Step 1: Define the training patterns\n",
    "A1 = np.array([-1, 1, -1, 1])\n",
    "A2 = np.array([1, 1, 1, -1])\n",
    "A3 = np.array([-1, -1, -1, 1])\n",
    "\n",
    "# Combine the training patterns into a list for easier processing\n",
    "training_patterns = [A1, A2, A3]\n",
    "\n",
    "# Step 2: Train the autocorrelator using the patterns\n",
    "def train_autocorrelator(patterns):\n",
    "    # Initialize the weight matrix as a zero matrix\n",
    "    weight_matrix = np.zeros((len(patterns[0]), len(patterns[0])))\n",
    "    \n",
    "    # Apply the Hebbian learning rule: W = sum(p_i * p_i^T)\n",
    "    for pattern in patterns:\n",
    "        weight_matrix += np.outer(pattern, pattern)\n",
    "        \n",
    "    return weight_matrix\n",
    "\n",
    "# Step 3: Define the function for testing the network\n",
    "def test_autocorrelator(weight_matrix, test_input):\n",
    "    # Apply the weight matrix to the test input and apply a threshold to recall the pattern\n",
    "    output = np.sign(np.dot(weight_matrix, test_input))  # Use sign to threshold the output\n",
    "    return output\n",
    "\n",
    "# Step 4: Train the autocorrelator network with the training patterns\n",
    "weight_matrix = train_autocorrelator(training_patterns)\n",
    "\n",
    "# Step 5: Test the network with the provided test patterns\n",
    "Ax = np.array([-1, 1, -1, 1])\n",
    "Ay = np.array([1, 1, 1, 1])\n",
    "Az = np.array([-1, -1, -1, -1])\n",
    "\n",
    "output_Ax = test_autocorrelator(weight_matrix, Ax)\n",
    "output_Ay = test_autocorrelator(weight_matrix, Ay)\n",
    "output_Az = test_autocorrelator(weight_matrix, Az)\n",
    "\n",
    "# Step 6: Print the results\n",
    "print(\"Output for Ax test pattern (-1, 1, -1, 1):\", output_Ax)\n",
    "print(\"Output for Ay test pattern (1, 1, 1, 1):\", output_Ay)\n",
    "print(\"Output for Az test pattern (-1, -1, -1, -1):\", output_Az)\n"
   ]
  },
  {
   "cell_type": "markdown",
   "id": "6fbe662c-851c-400c-9ac1-ebf478d3af3c",
   "metadata": {},
   "source": [
    "#### Write a program in MATLAB to implement De-Morgan's Law"
   ]
  },
  {
   "cell_type": "code",
   "execution_count": 18,
   "id": "bc9b92f3-b8f7-42a5-bd2d-a9394cfee321",
   "metadata": {},
   "outputs": [
    {
     "data": {
      "text/plain": [
       "\"% Define the logical values for A and B\\nA = [true, true, false, false]; % A: true, true, false, false\\nB = [true, false, true, false]; % B: true, false, true, false\\n\\n% Display the results for De Morgan's Law (1): ¬(A ∧ B) = ¬A ∨ ¬B\\ndisp('De Morgan''s Law 1: ¬(A ∧ B) = ¬A ∨ ¬B');\\nfor i = 1:length(A)\\n    % Left side of the equation: ¬(A ∧ B)\\n    left_side_1 = ~(A(i) & B(i));\\n    \\n    % Right side of the equation: ¬A ∨ ¬B\\n    right_side_1 = ~A(i) | ~B(i);\\n    \\n    fprintf('A = %d, B = %d: Left side = %d, Right side = %d\\n', A(i), B(i), left_side_1, right_side_1);\\nend\\n\\ndisp(' '); % Print a blank line for separation\\n\\n% Display the results for De Morgan's Law (2): ¬(A ∨ B) = ¬A ∧ ¬B\\ndisp('De Morgan''s Law 2: ¬(A ∨ B) = ¬A ∧ ¬B');\\nfor i = 1:length(A)\\n    % Left side of the equation: ¬(A ∨ B)\\n    left_side_2 = ~(A(i) | B(i));\\n    \\n    % Right side of the equation: ¬A ∧ ¬B\\n    right_side_2 = ~A(i) & ~B(i);\\n    \\n    fprintf('A = %d, B = %d: Left side = %d, Right side = %d\\n', A(i), B(i), left_side_2, right_side_2);\\nend\\n\""
      ]
     },
     "execution_count": 18,
     "metadata": {},
     "output_type": "execute_result"
    }
   ],
   "source": [
    "# MATLAB program\n",
    "\n",
    "'''% Define the logical values for A and B\n",
    "A = [true, true, false, false]; % A: true, true, false, false\n",
    "B = [true, false, true, false]; % B: true, false, true, false\n",
    "\n",
    "% Display the results for De Morgan's Law (1): ¬(A ∧ B) = ¬A ∨ ¬B\n",
    "disp('De Morgan''s Law 1: ¬(A ∧ B) = ¬A ∨ ¬B');\n",
    "for i = 1:length(A)\n",
    "    % Left side of the equation: ¬(A ∧ B)\n",
    "    left_side_1 = ~(A(i) & B(i));\n",
    "    \n",
    "    % Right side of the equation: ¬A ∨ ¬B\n",
    "    right_side_1 = ~A(i) | ~B(i);\n",
    "    \n",
    "    fprintf('A = %d, B = %d: Left side = %d, Right side = %d\\n', A(i), B(i), left_side_1, right_side_1);\n",
    "end\n",
    "\n",
    "disp(' '); % Print a blank line for separation\n",
    "\n",
    "% Display the results for De Morgan's Law (2): ¬(A ∨ B) = ¬A ∧ ¬B\n",
    "disp('De Morgan''s Law 2: ¬(A ∨ B) = ¬A ∧ ¬B');\n",
    "for i = 1:length(A)\n",
    "    % Left side of the equation: ¬(A ∨ B)\n",
    "    left_side_2 = ~(A(i) | B(i));\n",
    "    \n",
    "    % Right side of the equation: ¬A ∧ ¬B\n",
    "    right_side_2 = ~A(i) & ~B(i);\n",
    "    \n",
    "    fprintf('A = %d, B = %d: Left side = %d, Right side = %d\\n', A(i), B(i), left_side_2, right_side_2);\n",
    "end\n",
    "'''"
   ]
  },
  {
   "cell_type": "markdown",
   "id": "8cfff94a-57f0-47e2-b926-df5cda48054b",
   "metadata": {},
   "source": [
    "#### Generate ANDNOT functions using McCulloch-pitts neural net."
   ]
  },
  {
   "cell_type": "code",
   "execution_count": 16,
   "id": "0827aa94-921e-49c3-a014-635f07a69c00",
   "metadata": {},
   "outputs": [
    {
     "name": "stdout",
     "output_type": "stream",
     "text": [
      "A | B | ANDNOT(A, B)\n",
      "0 | 0 | 0\n",
      "0 | 1 | 1\n",
      "1 | 0 | 1\n",
      "1 | 1 | 1\n"
     ]
    }
   ],
   "source": [
    "import numpy as np\n",
    "\n",
    "# McCulloch-Pitts Neuron Model\n",
    "def mcCulloch_pitts(inputs, weights, threshold):\n",
    "    # Calculate the weighted sum of inputs\n",
    "    weighted_sum = np.dot(inputs, weights)\n",
    "    \n",
    "    # Apply the threshold function (step function)\n",
    "    if weighted_sum >= threshold:\n",
    "        return 1  # Neuron fires\n",
    "    else:\n",
    "        return 0  # Neuron does not fire\n",
    "\n",
    "# Define the ANDNOT function\n",
    "def andnot_function(A, B):\n",
    "    # Weights and threshold for the ANDNOT operation\n",
    "    # McCulloch-Pitts for ANDNOT\n",
    "    weights = np.array([1, 1])   # Both inputs have weight 1\n",
    "    threshold = 1  # The threshold is 1 to implement the ANDNOT behavior\n",
    "    \n",
    "    # Create the input vector [A, B]\n",
    "    inputs = np.array([A, B])\n",
    "    \n",
    "    # Apply the McCulloch-Pitts neuron model\n",
    "    return mcCulloch_pitts(inputs, weights, threshold)\n",
    "\n",
    "# Test the ANDNOT function for all combinations of A and B\n",
    "print(\"A | B | ANDNOT(A, B)\")\n",
    "for A in [0, 1]:\n",
    "    for B in [0, 1]:\n",
    "        result = andnot_function(A, B)\n",
    "        print(f\"{A} | {B} | {result}\")\n"
   ]
  },
  {
   "cell_type": "markdown",
   "id": "d8350a35-436e-4eda-bd9a-c4b3a79c87ba",
   "metadata": {},
   "source": [
    "#### Binary Step Activation Function"
   ]
  },
  {
   "cell_type": "code",
   "execution_count": 1,
   "id": "02c31304-54c2-463b-b11d-c630898723c9",
   "metadata": {},
   "outputs": [
    {
     "data": {
      "image/png": "[encoded data removed]",
      "text/plain": [
       "<Figure size 640x480 with 1 Axes>"
      ]
     },
     "metadata": {},
     "output_type": "display_data"
    }
   ],
   "source": [
    "import numpy as np\n",
    "import matplotlib.pyplot as plt\n",
    "def binaryStep(a):\n",
    "    return np.heaviside(a,1)\n",
    "a = np.linspace(-8, 8)\n",
    "plt.plot(a, binaryStep(a))\n",
    "plt.title('Binary Step Activation Function',\n",
    "fontweight='bold')\n",
    "plt.xlabel(\"a\", fontweight='bold')\n",
    "plt.ylabel(\"f(a)\", fontweight='bold')\n",
    "plt.show()"
   ]
  },
  {
   "cell_type": "markdown",
   "id": "02d35fbc-2cc6-453c-b5da-4910067d4ed0",
   "metadata": {},
   "source": [
    "#### Python Code to Display Linear Activation Function"
   ]
  },
  {
   "cell_type": "code",
   "execution_count": 2,
   "id": "63e67a23-bd2c-4cb7-8bbb-c1e3ec93aa43",
   "metadata": {},
   "outputs": [
    {
     "data": {
      "image/png": "[encoded data removed]",
      "text/plain": [
       "<Figure size 640x480 with 1 Axes>"
      ]
     },
     "metadata": {},
     "output_type": "display_data"
    }
   ],
   "source": [
    "import numpy as np\n",
    "import matplotlib.pyplot as plt\n",
    "def linear(a):\n",
    "    return (a)\n",
    "a = np.linspace(-8, 8)\n",
    "plt.plot(a, linear(a))\n",
    "plt.title('Linear Activation Function', fontweight\n",
    "='bold')\n",
    "plt.xlabel(\"a\", fontweight='bold')\n",
    "plt.ylabel(\"f(a)\", fontweight='bold')\n",
    "plt.show()"
   ]
  },
  {
   "cell_type": "markdown",
   "id": "3c5a5ec4-e62c-4912-93f1-1a49f9ef0945",
   "metadata": {},
   "source": [
    "#### Python Code to Display Sigmoid Activation Function"
   ]
  },
  {
   "cell_type": "code",
   "execution_count": 3,
   "id": "f38671d1-6058-42a4-bf54-a4565c0d1b86",
   "metadata": {},
   "outputs": [
    {
     "data": {
      "image/png": "[encoded data removed]",
      "text/plain": [
       "<Figure size 640x480 with 1 Axes>"
      ]
     },
     "metadata": {},
     "output_type": "display_data"
    }
   ],
   "source": [
    "import numpy as np\n",
    "import matplotlib.pyplot as plt\n",
    "def sigmoid(a):\n",
    "    return 1/(1+np.exp(-a))\n",
    "a = np.linspace(-8, 8)\n",
    "plt.plot(a, sigmoid(a))\n",
    "plt.title('Sigmoid Activation Function',\n",
    "fontweight='bold')\n",
    "plt.xlabel(\"a\", fontweight='bold')\n",
    "plt.ylabel(\"f(a)\", fontweight='bold')\n",
    "plt.show()"
   ]
  },
  {
   "cell_type": "markdown",
   "id": "ba54b5ee-6520-4e4e-9a1a-284a7e714170",
   "metadata": {},
   "source": [
    "#### Python Code to Display ReLU Activation Function"
   ]
  },
  {
   "cell_type": "code",
   "execution_count": 4,
   "id": "7b713a95-d541-40b8-a626-ab8e7384a2cf",
   "metadata": {},
   "outputs": [
    {
     "data": {
      "image/png": "[encoded data removed]",
      "text/plain": [
       "<Figure size 640x480 with 1 Axes>"
      ]
     },
     "metadata": {},
     "output_type": "display_data"
    }
   ],
   "source": [
    "import numpy as np\n",
    "import matplotlib.pyplot as plt\n",
    "def relu(a):\n",
    "    z=[]\n",
    "    for i in a:\n",
    "        if i<0:\n",
    "            z.append(0)\n",
    "        else:\n",
    "            z.append(i)\n",
    "    return z\n",
    "\n",
    "a = np.linspace(-8, 8)\n",
    "plt.plot(a, relu(a))\n",
    "plt.title('ReLU Activation Function', fontweight='bold')\n",
    "plt.xlabel(\"a\", fontweight='bold')\n",
    "plt.ylabel(\"f(a)\", fontweight='bold')\n",
    "plt.show()\n"
   ]
  },
  {
   "cell_type": "markdown",
   "id": "13061c3e-28bd-4135-97d4-3514aa3ec2d6",
   "metadata": {},
   "source": [
    "#### tanh Activation function"
   ]
  },
  {
   "cell_type": "code",
   "execution_count": 5,
   "id": "20405b93-9101-462d-afbb-b53467e7c2f5",
   "metadata": {},
   "outputs": [
    {
     "data": {
      "image/png": "[encoded data removed]",
      "text/plain": [
       "<Figure size 640x480 with 1 Axes>"
      ]
     },
     "metadata": {},
     "output_type": "display_data"
    }
   ],
   "source": [
    "import numpy as np\n",
    "import matplotlib.pyplot as plt\n",
    "def tanh(a):\n",
    "    return np.tanh(a)\n",
    "a = np.linspace(-8, 8)\n",
    "plt.plot(a, tanh(a))\n",
    "plt.title('tanh Activation Function', fontweight='bold')\n",
    "plt.xlabel(\"a\", fontweight='bold')\n",
    "plt.ylabel(\"f(a)\", fontweight='bold')\n",
    "plt.show()"
   ]
  },
  {
   "cell_type": "markdown",
   "id": "cbb99c71-8325-49cb-85f3-abe12d22ce1b",
   "metadata": {},
   "source": [
    "#### Leaky ReLU Activation Function"
   ]
  },
  {
   "cell_type": "code",
   "execution_count": 10,
   "id": "f0fe1575-67b7-469b-b295-46d63e132d54",
   "metadata": {},
   "outputs": [
    {
     "data": {
      "image/png": "[encoded data removed]",
      "text/plain": [
       "<Figure size 640x480 with 1 Axes>"
      ]
     },
     "metadata": {},
     "output_type": "display_data"
    }
   ],
   "source": [
    "import numpy as np\n",
    "import matplotlib.pyplot as plt\n",
    "\n",
    "# Leaky ReLU activation function\n",
    "def leaky_relu(x, alpha=0.01):\n",
    "    return np.where(x > 0, x, alpha * x)\n",
    "\n",
    "# Generate values for x\n",
    "x = np.linspace(-10, 10, 1000)\n",
    "\n",
    "# Apply the Leaky ReLU activation function\n",
    "y = leaky_relu(x)\n",
    "\n",
    "# Plot the result\n",
    "plt.plot(x, y, label='Leaky ReLU', color='blue')\n",
    "plt.title('Leaky ReLU Activation Function')\n",
    "plt.xlabel('x')\n",
    "plt.ylabel('f(x)')\n",
    "plt.grid(True)\n",
    "plt.legend()\n",
    "plt.show()\n"
   ]
  },
  {
   "cell_type": "markdown",
   "id": "68316bf0-db77-4c6e-ae8e-f0f748c93255",
   "metadata": {},
   "source": [
    "#### Python Code to Display SoftMax Activation Function"
   ]
  },
  {
   "cell_type": "code",
   "execution_count": 11,
   "id": "62f90e6d-ff27-4534-b71d-37cd386b286b",
   "metadata": {},
   "outputs": [
    {
     "data": {
      "image/png": "[encoded data removed]",
      "text/plain": [
       "<Figure size 640x480 with 1 Axes>"
      ]
     },
     "metadata": {},
     "output_type": "display_data"
    }
   ],
   "source": [
    "import numpy as np\n",
    "import matplotlib.pyplot as plt\n",
    "def softmax(a):\n",
    "    return np.exp(a) / np.sum(np.exp(a), axis=0)\n",
    "a = np.linspace(-8, 8)\n",
    "plt.plot(a, softmax(a))\n",
    "plt.title('softmax Activation Function',\n",
    "fontweight='bold')\n",
    "plt.xlabel(\"a\", fontweight='bold')\n",
    "plt.ylabel(\"f(a)\", fontweight='bold')\n",
    "plt.show()"
   ]
  },
  {
   "cell_type": "code",
   "execution_count": null,
   "id": "4c5e0274-9e6a-4826-b2ec-bbc42ecbfecc",
   "metadata": {},
   "outputs": [],
   "source": []
  }
 ],
 "metadata": {
  "kernelspec": {
   "display_name": "Python 3 (ipykernel)",
   "language": "python",
   "name": "python3"
  },
  "language_info": {
   "codemirror_mode": {
    "name": "ipython",
    "version": 3
   },
   "file_extension": ".py",
   "mimetype": "text/x-python",
   "name": "python",
   "nbconvert_exporter": "python",
   "pygments_lexer": "ipython3",
   "version": "3.11.2"
  }
 },
 "nbformat": 4,
 "nbformat_minor": 5
}
